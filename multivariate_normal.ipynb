{
 "cells": [
  {
   "cell_type": "code",
   "execution_count": 1,
   "metadata": {},
   "outputs": [],
   "source": [
    "import numpy as np\n",
    "from chainer import cuda\n",
    "import pandas\n",
    "import pingouin\n",
    "import scipy.stats as stats\n",
    "import matplotlib.pyplot as plt"
   ]
  },
  {
   "cell_type": "code",
   "execution_count": 29,
   "metadata": {},
   "outputs": [],
   "source": [
    "# cov_mat = np.asarray([[1, 0.0],[0.0, 1.0]])\n",
    "# cov_mat = np.asarray([[1, 0.5],[0.5, 1.0]])\n",
    "cov_mat = np.asarray([[1, 0.9],[0.9, 1.0]])\n",
    "diag_std = np.diag(1/np.diag(cov_mat))\n",
    "mu = np.asarray([[3],[0.0]])\n",
    "L = np.linalg.cholesky(cov_mat)\n",
    "L_inv = np.linalg.inv(L)\n",
    "eye = np.eye(2)"
   ]
  },
  {
   "cell_type": "code",
   "execution_count": 30,
   "metadata": {},
   "outputs": [
    {
     "name": "stdout",
     "output_type": "stream",
     "text": [
      "Cov mat\n",
      "[[1.  0.9]\n",
      " [0.9 1. ]]\n",
      "Mean vec\n",
      "[[3.]\n",
      " [0.]]\n",
      "Cov mat square root\n",
      "[[1.         0.        ]\n",
      " [0.9        0.43588989]]\n",
      "Inverse of cov mat square root\n",
      "[[ 1.          0.        ]\n",
      " [-2.0647416   2.29415734]]\n"
     ]
    }
   ],
   "source": [
    "print(\"Cov mat\")\n",
    "print(cov_mat)\n",
    "print(\"Mean vec\")\n",
    "print(mu)\n",
    "print(\"Cov mat square root\")\n",
    "print(L)\n",
    "print(\"Inverse of cov mat square root\")\n",
    "print(L_inv)"
   ]
  },
  {
   "cell_type": "code",
   "execution_count": 34,
   "metadata": {},
   "outputs": [
    {
     "name": "stdout",
     "output_type": "stream",
     "text": [
      "[[4. ]\n",
      " [0.9]]\n"
     ]
    }
   ],
   "source": [
    "# vec = np.asarray([[0.0],[1.0]]) + mu\n",
    "vec = np.asarray([[1.0],[0.0]]) + mu\n",
    "x = L@diag_std@vec + (eye - L@diag_std)@mu\n",
    "# x = L@diag_std@vec\n",
    "print(x)"
   ]
  }
 ],
 "metadata": {
  "kernelspec": {
   "display_name": "sra-env-bu",
   "language": "python",
   "name": "python3"
  },
  "language_info": {
   "codemirror_mode": {
    "name": "ipython",
    "version": 3
   },
   "file_extension": ".py",
   "mimetype": "text/x-python",
   "name": "python",
   "nbconvert_exporter": "python",
   "pygments_lexer": "ipython3",
   "version": "3.8.17"
  }
 },
 "nbformat": 4,
 "nbformat_minor": 2
}
